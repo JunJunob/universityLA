{
 "cells": [
  {
   "cell_type": "code",
   "execution_count": 3,
   "metadata": {},
   "outputs": [],
   "source": [
    "from sympy import *"
   ]
  },
  {
   "cell_type": "code",
   "execution_count": 19,
   "metadata": {},
   "outputs": [],
   "source": [
    "M = Matrix([[1, 0, 1, 3], [2, 3, 4, 7], [-1, -3, -3, -4]])"
   ]
  },
  {
   "cell_type": "code",
   "execution_count": 20,
   "metadata": {},
   "outputs": [
    {
     "data": {
      "text/plain": [
       "(Matrix([\n",
       " [1, 0,   1,   3],\n",
       " [0, 1, 2/3, 1/3],\n",
       " [0, 0,   0,   0]]), (0, 1))"
      ]
     },
     "execution_count": 20,
     "metadata": {},
     "output_type": "execute_result"
    }
   ],
   "source": [
    "M.rref()"
   ]
  },
  {
   "cell_type": "code",
   "execution_count": 4,
   "metadata": {},
   "outputs": [
    {
     "data": {
      "text/plain": [
       "[Matrix([\n",
       " [  -1],\n",
       " [-2/3],\n",
       " [   1],\n",
       " [   0]]), Matrix([\n",
       " [  -3],\n",
       " [-1/3],\n",
       " [   0],\n",
       " [   1]])]"
      ]
     },
     "execution_count": 4,
     "metadata": {},
     "output_type": "execute_result"
    }
   ],
   "source": [
    "M.nullspace()"
   ]
  },
  {
   "cell_type": "code",
   "execution_count": 5,
   "metadata": {},
   "outputs": [],
   "source": [
    "N = Matrix([[1, 0, 1], [2, 3, 4], [-3, -3, -4]])"
   ]
  },
  {
   "cell_type": "code",
   "execution_count": 6,
   "metadata": {},
   "outputs": [
    {
     "data": {
      "text/plain": [
       "3"
      ]
     },
     "execution_count": 6,
     "metadata": {},
     "output_type": "execute_result"
    }
   ],
   "source": [
    "N.det()"
   ]
  },
  {
   "cell_type": "code",
   "execution_count": 7,
   "metadata": {},
   "outputs": [
    {
     "data": {
      "text/plain": [
       "Matrix([\n",
       "[   0,   -1,   -1],\n",
       "[-4/3, -1/3, -2/3],\n",
       "[   1,    1,    1]])"
      ]
     },
     "execution_count": 7,
     "metadata": {},
     "output_type": "execute_result"
    }
   ],
   "source": [
    "N**-1"
   ]
  },
  {
   "cell_type": "code",
   "execution_count": 8,
   "metadata": {},
   "outputs": [
    {
     "data": {
      "text/plain": [
       "{1: 1, -1/2 - sqrt(11)*I/2: 1, -1/2 + sqrt(11)*I/2: 1}"
      ]
     },
     "execution_count": 8,
     "metadata": {},
     "output_type": "execute_result"
    }
   ],
   "source": [
    "N.eigenvals()"
   ]
  },
  {
   "cell_type": "code",
   "execution_count": 9,
   "metadata": {},
   "outputs": [
    {
     "data": {
      "text/plain": [
       "[(1, 1, [Matrix([\n",
       "   [-1],\n",
       "   [ 1],\n",
       "   [ 0]])]), (-1/2 - sqrt(11)*I/2, 1, [Matrix([\n",
       "   [                                        -1/(3/2 + sqrt(11)*I/2)],\n",
       "   [-(4 + 2*sqrt(11)*I)/((3/2 + sqrt(11)*I/2)*(7/2 + sqrt(11)*I/2))],\n",
       "   [                                                              1]])]), (-1/2 + sqrt(11)*I/2,\n",
       "  1,\n",
       "  [Matrix([\n",
       "   [                                        -1/(3/2 - sqrt(11)*I/2)],\n",
       "   [-(4 - 2*sqrt(11)*I)/((3/2 - sqrt(11)*I/2)*(7/2 - sqrt(11)*I/2))],\n",
       "   [                                                              1]])])]"
      ]
     },
     "execution_count": 9,
     "metadata": {},
     "output_type": "execute_result"
    }
   ],
   "source": [
    "N.eigenvects()"
   ]
  },
  {
   "cell_type": "code",
   "execution_count": 10,
   "metadata": {},
   "outputs": [],
   "source": [
    "P, D = N.diagonalize()"
   ]
  },
  {
   "cell_type": "code",
   "execution_count": 11,
   "metadata": {},
   "outputs": [
    {
     "data": {
      "text/plain": [
       "Matrix([\n",
       "[-1,  -3/10 + sqrt(11)*I/10,  -3/10 - sqrt(11)*I/10],\n",
       "[ 1, -13/15 + sqrt(11)*I/15, -13/15 - sqrt(11)*I/15],\n",
       "[ 0,                      1,                      1]])"
      ]
     },
     "execution_count": 11,
     "metadata": {},
     "output_type": "execute_result"
    }
   ],
   "source": [
    "P"
   ]
  },
  {
   "cell_type": "code",
   "execution_count": 12,
   "metadata": {},
   "outputs": [
    {
     "data": {
      "text/plain": [
       "Matrix([\n",
       "[1,                   0,                   0],\n",
       "[0, -1/2 - sqrt(11)*I/2,                   0],\n",
       "[0,                   0, -1/2 + sqrt(11)*I/2]])"
      ]
     },
     "execution_count": 12,
     "metadata": {},
     "output_type": "execute_result"
    }
   ],
   "source": [
    "D"
   ]
  },
  {
   "cell_type": "code",
   "execution_count": 13,
   "metadata": {},
   "outputs": [
    {
     "data": {
      "text/plain": [
       "Matrix([\n",
       "[ -3*sqrt(11)*I*(-sqrt(11)*I*(13/15 - sqrt(11)*I/15)/3 + (-3/10 + sqrt(11)*I/10)*(7/6 + sqrt(11)*I/6) - (-3/10 - sqrt(11)*I/10)*(7/6 - sqrt(11)*I/6))/(11*(-7/6 + sqrt(11)*I/6)) + 3*sqrt(11)*I*(-7/6 + sqrt(11)*I/6)*(-1/2 - sqrt(11)*I/2)*(-3/10 + sqrt(11)*I/10)/(11*(7/6 - sqrt(11)*I/6)) + 3*sqrt(11)*I*(-1/2 + sqrt(11)*I/2)*(-3/10 - sqrt(11)*I/10)/11,  -3*sqrt(11)*I*((-3/10 + sqrt(11)*I/10)*(7/6 + sqrt(11)*I/6) - (-3/10 - sqrt(11)*I/10)*(7/6 - sqrt(11)*I/6) - sqrt(11)*I*(-3/10 + sqrt(11)*I/10)/3)/(11*(-7/6 + sqrt(11)*I/6)) + 3*sqrt(11)*I*(-7/6 + sqrt(11)*I/6)*(-1/2 - sqrt(11)*I/2)*(-3/10 + sqrt(11)*I/10)/(11*(7/6 - sqrt(11)*I/6)) + 3*sqrt(11)*I*(-1/2 + sqrt(11)*I/2)*(-3/10 - sqrt(11)*I/10)/11,   -3*sqrt(11)*I*(-1/2 - sqrt(11)*I/2)*(-3/10 + sqrt(11)*I/10)*(7/6 + sqrt(11)*I/6)/11 + 3*sqrt(11)*I*(7/6 - sqrt(11)*I/6)*((-3/10 - sqrt(11)*I/10)*(7/6 - sqrt(11)*I/6) - (-3/10 + sqrt(11)*I/10)*(7/6 + sqrt(11)*I/6))/(11*(-7/6 + sqrt(11)*I/6)) + 3*sqrt(11)*I*(-1/2 + sqrt(11)*I/2)*(-3/10 - sqrt(11)*I/10)*(7/6 - sqrt(11)*I/6)/11],\n",
       "[3*sqrt(11)*I*(-sqrt(11)*I*(13/15 - sqrt(11)*I/15)/3 + (-3/10 + sqrt(11)*I/10)*(7/6 + sqrt(11)*I/6) - (-3/10 - sqrt(11)*I/10)*(7/6 - sqrt(11)*I/6))/(11*(-7/6 + sqrt(11)*I/6)) + 3*sqrt(11)*I*(-7/6 + sqrt(11)*I/6)*(-13/15 + sqrt(11)*I/15)*(-1/2 - sqrt(11)*I/2)/(11*(7/6 - sqrt(11)*I/6)) + 3*sqrt(11)*I*(-13/15 - sqrt(11)*I/15)*(-1/2 + sqrt(11)*I/2)/11, 3*sqrt(11)*I*((-3/10 + sqrt(11)*I/10)*(7/6 + sqrt(11)*I/6) - (-3/10 - sqrt(11)*I/10)*(7/6 - sqrt(11)*I/6) - sqrt(11)*I*(-3/10 + sqrt(11)*I/10)/3)/(11*(-7/6 + sqrt(11)*I/6)) + 3*sqrt(11)*I*(-7/6 + sqrt(11)*I/6)*(-13/15 + sqrt(11)*I/15)*(-1/2 - sqrt(11)*I/2)/(11*(7/6 - sqrt(11)*I/6)) + 3*sqrt(11)*I*(-13/15 - sqrt(11)*I/15)*(-1/2 + sqrt(11)*I/2)/11, -3*sqrt(11)*I*(-13/15 + sqrt(11)*I/15)*(-1/2 - sqrt(11)*I/2)*(7/6 + sqrt(11)*I/6)/11 - 3*sqrt(11)*I*(7/6 - sqrt(11)*I/6)*((-3/10 - sqrt(11)*I/10)*(7/6 - sqrt(11)*I/6) - (-3/10 + sqrt(11)*I/10)*(7/6 + sqrt(11)*I/6))/(11*(-7/6 + sqrt(11)*I/6)) + 3*sqrt(11)*I*(-13/15 - sqrt(11)*I/15)*(-1/2 + sqrt(11)*I/2)*(7/6 - sqrt(11)*I/6)/11],\n",
       "[                                                                                                                                                                                                                                  3*sqrt(11)*I*(-1/2 + sqrt(11)*I/2)/11 + 3*sqrt(11)*I*(-7/6 + sqrt(11)*I/6)*(-1/2 - sqrt(11)*I/2)/(11*(7/6 - sqrt(11)*I/6)),                                                                                                                                                                                                                                  3*sqrt(11)*I*(-1/2 + sqrt(11)*I/2)/11 + 3*sqrt(11)*I*(-7/6 + sqrt(11)*I/6)*(-1/2 - sqrt(11)*I/2)/(11*(7/6 - sqrt(11)*I/6)),                                                                                                                                                                                                                -3*sqrt(11)*I*(-1/2 - sqrt(11)*I/2)*(7/6 + sqrt(11)*I/6)/11 + 3*sqrt(11)*I*(-1/2 + sqrt(11)*I/2)*(7/6 - sqrt(11)*I/6)/11]])"
      ]
     },
     "execution_count": 13,
     "metadata": {},
     "output_type": "execute_result"
    }
   ],
   "source": [
    "P*D*P**-1"
   ]
  },
  {
   "cell_type": "code",
   "execution_count": 15,
   "metadata": {},
   "outputs": [
    {
     "data": {
      "text/plain": [
       "False"
      ]
     },
     "execution_count": 15,
     "metadata": {},
     "output_type": "execute_result"
    }
   ],
   "source": [
    "P*D*P**-1 == N"
   ]
  },
  {
   "cell_type": "code",
   "execution_count": 19,
   "metadata": {},
   "outputs": [],
   "source": [
    "from sympy.interactive.printing import init_printing"
   ]
  },
  {
   "cell_type": "code",
   "execution_count": 20,
   "metadata": {},
   "outputs": [],
   "source": [
    "from sympy.matrices import Matrix, eye, zeros, ones, diag, GramSchmidt"
   ]
  },
  {
   "cell_type": "code",
   "execution_count": 22,
   "metadata": {},
   "outputs": [
    {
     "data": {
      "text/plain": [
       "Matrix([\n",
       "[1, 0, 0, 0],\n",
       "[0, 1, 0, 0],\n",
       "[0, 0, 1, 0],\n",
       "[0, 0, 0, 1]])"
      ]
     },
     "execution_count": 22,
     "metadata": {},
     "output_type": "execute_result"
    }
   ],
   "source": [
    "eye(4)"
   ]
  },
  {
   "cell_type": "code",
   "execution_count": 23,
   "metadata": {},
   "outputs": [
    {
     "data": {
      "text/plain": [
       "Matrix([\n",
       "[0, 0],\n",
       "[0, 0]])"
      ]
     },
     "execution_count": 23,
     "metadata": {},
     "output_type": "execute_result"
    }
   ],
   "source": [
    "zeros(2)"
   ]
  },
  {
   "cell_type": "code",
   "execution_count": 24,
   "metadata": {},
   "outputs": [
    {
     "data": {
      "text/plain": [
       "Matrix([\n",
       "[1, 1, 1],\n",
       "[1, 1, 1],\n",
       "[1, 1, 1]])"
      ]
     },
     "execution_count": 24,
     "metadata": {},
     "output_type": "execute_result"
    }
   ],
   "source": [
    "ones(3)"
   ]
  },
  {
   "cell_type": "code",
   "execution_count": 25,
   "metadata": {},
   "outputs": [
    {
     "data": {
      "text/plain": [
       "Matrix([\n",
       "[   0,   -1,   -1],\n",
       "[-4/3, -1/3, -2/3],\n",
       "[   1,    1,    1]])"
      ]
     },
     "execution_count": 25,
     "metadata": {},
     "output_type": "execute_result"
    }
   ],
   "source": [
    "N.inv()"
   ]
  },
  {
   "cell_type": "code",
   "execution_count": 26,
   "metadata": {},
   "outputs": [],
   "source": [
    "A = Matrix([[1,1,1],[1,1,3],[2,3,4]])"
   ]
  },
  {
   "cell_type": "code",
   "execution_count": 27,
   "metadata": {},
   "outputs": [],
   "source": [
    "Q, R = A.QRdecomposition()"
   ]
  },
  {
   "cell_type": "code",
   "execution_count": 28,
   "metadata": {},
   "outputs": [
    {
     "data": {
      "text/plain": [
       "Matrix([\n",
       "[sqrt(6)/6, -sqrt(3)/3, -sqrt(2)/2],\n",
       "[sqrt(6)/6, -sqrt(3)/3,  sqrt(2)/2],\n",
       "[sqrt(6)/3,  sqrt(3)/3,          0]])"
      ]
     },
     "execution_count": 28,
     "metadata": {},
     "output_type": "execute_result"
    }
   ],
   "source": [
    "Q"
   ]
  },
  {
   "cell_type": "code",
   "execution_count": 29,
   "metadata": {},
   "outputs": [
    {
     "data": {
      "text/plain": [
       "Matrix([\n",
       "[sqrt(6), 4*sqrt(6)/3, 2*sqrt(6)],\n",
       "[      0,   sqrt(3)/3,         0],\n",
       "[      0,           0,   sqrt(2)]])"
      ]
     },
     "execution_count": 29,
     "metadata": {},
     "output_type": "execute_result"
    }
   ],
   "source": [
    "R"
   ]
  },
  {
   "cell_type": "code",
   "execution_count": 30,
   "metadata": {},
   "outputs": [],
   "source": [
    "A = Matrix([ [2, 3, 5], [3, 6, 2], [8, 3, 6] ])"
   ]
  },
  {
   "cell_type": "code",
   "execution_count": 31,
   "metadata": {},
   "outputs": [],
   "source": [
    "x = Matrix(3,1,[3,7,5])"
   ]
  },
  {
   "cell_type": "code",
   "execution_count": 32,
   "metadata": {},
   "outputs": [],
   "source": [
    "b = A*x"
   ]
  },
  {
   "cell_type": "code",
   "execution_count": 39,
   "metadata": {},
   "outputs": [],
   "source": [
    "soln = A.LUsolve(b)"
   ]
  },
  {
   "cell_type": "code",
   "execution_count": 40,
   "metadata": {},
   "outputs": [
    {
     "data": {
      "text/plain": [
       "Matrix([\n",
       "[3],\n",
       "[7],\n",
       "[5]])"
      ]
     },
     "execution_count": 40,
     "metadata": {},
     "output_type": "execute_result"
    }
   ],
   "source": [
    "soln"
   ]
  },
  {
   "cell_type": "code",
   "execution_count": 35,
   "metadata": {},
   "outputs": [
    {
     "data": {
      "text/plain": [
       "Matrix([\n",
       "[52],\n",
       "[61],\n",
       "[75]])"
      ]
     },
     "execution_count": 35,
     "metadata": {},
     "output_type": "execute_result"
    }
   ],
   "source": [
    "A*x"
   ]
  },
  {
   "cell_type": "code",
   "execution_count": 41,
   "metadata": {},
   "outputs": [],
   "source": [
    "c =Matrix(3,1, [52,61,75])"
   ]
  },
  {
   "cell_type": "code",
   "execution_count": 42,
   "metadata": {},
   "outputs": [],
   "source": [
    "soln = A.LUsolve(c)"
   ]
  },
  {
   "cell_type": "code",
   "execution_count": 43,
   "metadata": {},
   "outputs": [
    {
     "data": {
      "text/plain": [
       "Matrix([\n",
       "[3],\n",
       "[7],\n",
       "[5]])"
      ]
     },
     "execution_count": 43,
     "metadata": {},
     "output_type": "execute_result"
    }
   ],
   "source": [
    "soln"
   ]
  },
  {
   "cell_type": "code",
   "execution_count": 4,
   "metadata": {},
   "outputs": [],
   "source": [
    "G = Matrix([ [2,2,-1,2 ],[1,2,1,-7], [1,0,2,-1],[2,2,3,-8]])"
   ]
  },
  {
   "cell_type": "code",
   "execution_count": 5,
   "metadata": {},
   "outputs": [],
   "source": [
    "d = Matrix([[-4],[8],[6],[14]])"
   ]
  },
  {
   "cell_type": "code",
   "execution_count": 6,
   "metadata": {},
   "outputs": [],
   "source": [
    "soln = G.LUsolve(d)"
   ]
  },
  {
   "cell_type": "code",
   "execution_count": 7,
   "metadata": {},
   "outputs": [
    {
     "data": {
      "text/plain": [
       "Matrix([\n",
       "[nan],\n",
       "[nan],\n",
       "[nan],\n",
       "[nan]])"
      ]
     },
     "execution_count": 7,
     "metadata": {},
     "output_type": "execute_result"
    }
   ],
   "source": [
    "soln"
   ]
  },
  {
   "cell_type": "code",
   "execution_count": 8,
   "metadata": {},
   "outputs": [
    {
     "data": {
      "text/plain": [
       "[Matrix([\n",
       " [  -4],\n",
       " [17/4],\n",
       " [ 5/2],\n",
       " [   1]])]"
      ]
     },
     "execution_count": 8,
     "metadata": {},
     "output_type": "execute_result"
    }
   ],
   "source": [
    "G.nullspace()"
   ]
  },
  {
   "cell_type": "code",
   "execution_count": 9,
   "metadata": {},
   "outputs": [
    {
     "data": {
      "text/plain": [
       "(Matrix([\n",
       " [1, 0, 0,     4],\n",
       " [0, 1, 0, -17/4],\n",
       " [0, 0, 1,  -5/2],\n",
       " [0, 0, 0,     0]]), (0, 1, 2))"
      ]
     },
     "execution_count": 9,
     "metadata": {},
     "output_type": "execute_result"
    }
   ],
   "source": [
    "G.rref()"
   ]
  },
  {
   "cell_type": "code",
   "execution_count": 21,
   "metadata": {},
   "outputs": [],
   "source": [
    "H=Matrix([ [2,2,-1,2,-4],[1,2,1,-7,8], [1,0,2,-1,6],[2,2,3,-8,14]])"
   ]
  },
  {
   "cell_type": "code",
   "execution_count": 22,
   "metadata": {},
   "outputs": [
    {
     "data": {
      "text/plain": [
       "Matrix([\n",
       "[2, 2, -1,  2, -4],\n",
       "[1, 2,  1, -7,  8],\n",
       "[1, 0,  2, -1,  6],\n",
       "[2, 2,  3, -8, 14]])"
      ]
     },
     "execution_count": 22,
     "metadata": {},
     "output_type": "execute_result"
    }
   ],
   "source": [
    "H"
   ]
  },
  {
   "cell_type": "code",
   "execution_count": 23,
   "metadata": {},
   "outputs": [
    {
     "data": {
      "text/plain": [
       "(Matrix([\n",
       " [1, 0, 0,     4,   -3],\n",
       " [0, 1, 0, -17/4, 13/4],\n",
       " [0, 0, 1,  -5/2,  9/2],\n",
       " [0, 0, 0,     0,    0]]), (0, 1, 2))"
      ]
     },
     "execution_count": 23,
     "metadata": {},
     "output_type": "execute_result"
    }
   ],
   "source": [
    "H.rref()"
   ]
  },
  {
   "cell_type": "code",
   "execution_count": 24,
   "metadata": {},
   "outputs": [
    {
     "data": {
      "text/plain": [
       "[Matrix([\n",
       " [  -4],\n",
       " [17/4],\n",
       " [ 5/2],\n",
       " [   1],\n",
       " [   0]]), Matrix([\n",
       " [    3],\n",
       " [-13/4],\n",
       " [ -9/2],\n",
       " [    0],\n",
       " [    1]])]"
      ]
     },
     "execution_count": 24,
     "metadata": {},
     "output_type": "execute_result"
    }
   ],
   "source": [
    "H.nullspace()"
   ]
  },
  {
   "cell_type": "code",
   "execution_count": null,
   "metadata": {},
   "outputs": [],
   "source": []
  }
 ],
 "metadata": {
  "kernelspec": {
   "display_name": "Python 3",
   "language": "python",
   "name": "python3"
  },
  "language_info": {
   "codemirror_mode": {
    "name": "ipython",
    "version": 3
   },
   "file_extension": ".py",
   "mimetype": "text/x-python",
   "name": "python",
   "nbconvert_exporter": "python",
   "pygments_lexer": "ipython3",
   "version": "3.7.1"
  }
 },
 "nbformat": 4,
 "nbformat_minor": 2
}
